{
 "cells": [
  {
   "cell_type": "markdown",
   "id": "ffbad7a0",
   "metadata": {},
   "source": [
    "### РОССИЙСКИЙ УНИВЕРСИТЕТ ДРУЖБЫ НАРОДОВ\n",
    "\n",
    "#### Факультет физико-математических и естественных наук  \n",
    "#### Кафедра информационных технологий "
   ]
  },
  {
   "cell_type": "markdown",
   "id": "c80c2c23",
   "metadata": {},
   "source": [
    "## ОТЧЕТ ПО ЛАБОРАТОРНОЙ РАБОТЕ № 1\n",
    "\n",
    "\n",
    "### Дисциплина: Методы машинного обучения"
   ]
  },
  {
   "cell_type": "markdown",
   "id": "4b94df3d",
   "metadata": {},
   "source": [
    "##### Студент:  Аминов Зулфикор Мирзокаримович\n",
    "##### Группа:   НФИбд 02-19"
   ]
  },
  {
   "cell_type": "markdown",
   "id": "aad57b5f",
   "metadata": {},
   "source": [
    "## Москва 2022\n",
    "***"
   ]
  },
  {
   "cell_type": "markdown",
   "id": "9e9181df",
   "metadata": {},
   "source": [
    "### Вариант № 5\n",
    "\n",
    "1. Загрузите из набора данных \"diamonds\" следующие признаки:\n",
    "**features/table, features/z, price**\n",
    "\n",
    "2. Определите признак с минимальным диапазоном изменения значений и постройте гистограмму значений признака.\n",
    "\n",
    "3. Для признака, имеющего максимальную медиану, постройте и визуализируйте эмпирическую функцию распределения.\n",
    "\n",
    "4. Вычислите матрицу корреляции признаков и для пары признаков с наиболее низкой корреляцией постройте диаграмму рассеяния.\n",
    "\n",
    "Решение..."
   ]
  },
  {
   "cell_type": "markdown",
   "id": "b13d4061",
   "metadata": {},
   "source": [
    "## 1. Загрузите из набора данных \"diamonds\" следующие признаки:\n",
    "\n",
    "#### *features/table, features/z, price*"
   ]
  },
  {
   "cell_type": "code",
   "execution_count": 47,
   "id": "fcbb23dc",
   "metadata": {},
   "outputs": [],
   "source": [
    "import tensorflow_datasets as tfds"
   ]
  },
  {
   "cell_type": "code",
   "execution_count": 6,
   "id": "8361a0f6",
   "metadata": {},
   "outputs": [
    {
     "name": "stdout",
     "output_type": "stream",
     "text": [
      "\u001b[1mDownloading and preparing dataset Unknown size (download: Unknown size, generated: Unknown size, total: Unknown size) to C:\\Users\\ASUS\\tensorflow_datasets\\diamonds\\1.0.0...\u001b[0m\n"
     ]
    },
    {
     "data": {
      "application/vnd.jupyter.widget-view+json": {
       "model_id": "772ad2c650194e94a75d3297714d1ee5",
       "version_major": 2,
       "version_minor": 0
      },
      "text/plain": [
       "Dl Completed...: 0 url [00:00, ? url/s]"
      ]
     },
     "metadata": {},
     "output_type": "display_data"
    },
    {
     "data": {
      "application/vnd.jupyter.widget-view+json": {
       "model_id": "f93954ba75c744aa892ea7068052d7c5",
       "version_major": 2,
       "version_minor": 0
      },
      "text/plain": [
       "Dl Size...: 0 MiB [00:00, ? MiB/s]"
      ]
     },
     "metadata": {},
     "output_type": "display_data"
    },
    {
     "data": {
      "application/vnd.jupyter.widget-view+json": {
       "model_id": "",
       "version_major": 2,
       "version_minor": 0
      },
      "text/plain": [
       "Generating splits...:   0%|          | 0/1 [00:00<?, ? splits/s]"
      ]
     },
     "metadata": {},
     "output_type": "display_data"
    },
    {
     "data": {
      "application/vnd.jupyter.widget-view+json": {
       "model_id": "",
       "version_major": 2,
       "version_minor": 0
      },
      "text/plain": [
       "Generating train examples...: 0 examples [00:00, ? examples/s]"
      ]
     },
     "metadata": {},
     "output_type": "display_data"
    },
    {
     "data": {
      "application/vnd.jupyter.widget-view+json": {
       "model_id": "",
       "version_major": 2,
       "version_minor": 0
      },
      "text/plain": [
       "Shuffling C:\\Users\\ASUS\\tensorflow_datasets\\diamonds\\1.0.0.incomplete6IP8LY\\diamonds-train.tfrecord*...:   0%|…"
      ]
     },
     "metadata": {},
     "output_type": "display_data"
    },
    {
     "name": "stdout",
     "output_type": "stream",
     "text": [
      "\u001b[1mDataset diamonds downloaded and prepared to C:\\Users\\ASUS\\tensorflow_datasets\\diamonds\\1.0.0. Subsequent calls will reuse this data.\u001b[0m\n"
     ]
    },
    {
     "data": {
      "text/plain": [
       "<PrefetchDataset shapes: {features: {carat: (), clarity: (), color: (), cut: (), depth: (), table: (), x: (), y: (), z: ()}, price: ()}, types: {features: {carat: tf.float32, clarity: tf.int64, color: tf.int64, cut: tf.int64, depth: tf.float32, table: tf.float32, x: tf.float32, y: tf.float32, z: tf.float32}, price: tf.float32}>"
      ]
     },
     "execution_count": 6,
     "metadata": {},
     "output_type": "execute_result"
    }
   ],
   "source": [
    "# Загрузка набор данных \"diamonds\"\n",
    "ds = tfds.load(\"diamonds\", split='train') \n",
    "ds"
   ]
  },
  {
   "cell_type": "code",
   "execution_count": 7,
   "id": "58c5fd44",
   "metadata": {},
   "outputs": [
    {
     "data": {
      "text/html": [
       "<div>\n",
       "<style scoped>\n",
       "    .dataframe tbody tr th:only-of-type {\n",
       "        vertical-align: middle;\n",
       "    }\n",
       "\n",
       "    .dataframe tbody tr th {\n",
       "        vertical-align: top;\n",
       "    }\n",
       "\n",
       "    .dataframe thead th {\n",
       "        text-align: right;\n",
       "    }\n",
       "</style>\n",
       "<table border=\"1\" class=\"dataframe\">\n",
       "  <thead>\n",
       "    <tr style=\"text-align: right;\">\n",
       "      <th></th>\n",
       "      <th>features/carat</th>\n",
       "      <th>features/clarity</th>\n",
       "      <th>features/color</th>\n",
       "      <th>features/cut</th>\n",
       "      <th>features/depth</th>\n",
       "      <th>features/table</th>\n",
       "      <th>features/x</th>\n",
       "      <th>features/y</th>\n",
       "      <th>features/z</th>\n",
       "      <th>price</th>\n",
       "    </tr>\n",
       "  </thead>\n",
       "  <tbody>\n",
       "    <tr>\n",
       "      <th>0</th>\n",
       "      <td>1.26</td>\n",
       "      <td>2</td>\n",
       "      <td>4</td>\n",
       "      <td>2</td>\n",
       "      <td>60.599998</td>\n",
       "      <td>60.0</td>\n",
       "      <td>6.97</td>\n",
       "      <td>7.00</td>\n",
       "      <td>4.23</td>\n",
       "      <td>6546.0</td>\n",
       "    </tr>\n",
       "    <tr>\n",
       "      <th>1</th>\n",
       "      <td>0.80</td>\n",
       "      <td>3</td>\n",
       "      <td>4</td>\n",
       "      <td>4</td>\n",
       "      <td>62.099998</td>\n",
       "      <td>54.0</td>\n",
       "      <td>5.96</td>\n",
       "      <td>5.99</td>\n",
       "      <td>3.71</td>\n",
       "      <td>3030.0</td>\n",
       "    </tr>\n",
       "    <tr>\n",
       "      <th>2</th>\n",
       "      <td>0.56</td>\n",
       "      <td>4</td>\n",
       "      <td>2</td>\n",
       "      <td>4</td>\n",
       "      <td>61.700001</td>\n",
       "      <td>54.0</td>\n",
       "      <td>5.28</td>\n",
       "      <td>5.32</td>\n",
       "      <td>3.27</td>\n",
       "      <td>1915.0</td>\n",
       "    </tr>\n",
       "    <tr>\n",
       "      <th>3</th>\n",
       "      <td>1.51</td>\n",
       "      <td>3</td>\n",
       "      <td>6</td>\n",
       "      <td>1</td>\n",
       "      <td>64.000000</td>\n",
       "      <td>58.0</td>\n",
       "      <td>7.24</td>\n",
       "      <td>7.27</td>\n",
       "      <td>4.64</td>\n",
       "      <td>6936.0</td>\n",
       "    </tr>\n",
       "    <tr>\n",
       "      <th>4</th>\n",
       "      <td>0.33</td>\n",
       "      <td>6</td>\n",
       "      <td>5</td>\n",
       "      <td>4</td>\n",
       "      <td>62.200001</td>\n",
       "      <td>54.0</td>\n",
       "      <td>4.43</td>\n",
       "      <td>4.45</td>\n",
       "      <td>2.76</td>\n",
       "      <td>646.0</td>\n",
       "    </tr>\n",
       "  </tbody>\n",
       "</table>\n",
       "</div>"
      ],
      "text/plain": [
       "   features/carat  features/clarity  features/color  features/cut  \\\n",
       "0            1.26                 2               4             2   \n",
       "1            0.80                 3               4             4   \n",
       "2            0.56                 4               2             4   \n",
       "3            1.51                 3               6             1   \n",
       "4            0.33                 6               5             4   \n",
       "\n",
       "   features/depth  features/table  features/x  features/y  features/z   price  \n",
       "0       60.599998            60.0        6.97        7.00        4.23  6546.0  \n",
       "1       62.099998            54.0        5.96        5.99        3.71  3030.0  \n",
       "2       61.700001            54.0        5.28        5.32        3.27  1915.0  \n",
       "3       64.000000            58.0        7.24        7.27        4.64  6936.0  \n",
       "4       62.200001            54.0        4.43        4.45        2.76   646.0  "
      ]
     },
     "execution_count": 7,
     "metadata": {},
     "output_type": "execute_result"
    }
   ],
   "source": [
    "# Преобразуем объект PrefetchDataset в датафрейм:\n",
    "df = tfds.as_dataframe(ds)\n",
    "df.head()"
   ]
  },
  {
   "cell_type": "code",
   "execution_count": 9,
   "id": "dd60f10a",
   "metadata": {},
   "outputs": [],
   "source": [
    "# Удаляем ненужные признаки\n",
    "df.drop(columns=['features/carat'],inplace=True)\n",
    "df.drop(columns=['features/clarity'],inplace=True)\n",
    "df.drop(columns=['features/color'],inplace=True)\n",
    "df.drop(columns=['features/cut'],inplace=True)\n",
    "df.drop(columns=['features/depth'],inplace=True)\n",
    "df.drop(columns=['features/x'],inplace=True)\n",
    "df.drop(columns=['features/y'],inplace=True)"
   ]
  },
  {
   "cell_type": "code",
   "execution_count": 10,
   "id": "366ca3f4",
   "metadata": {
    "scrolled": true
   },
   "outputs": [
    {
     "data": {
      "text/html": [
       "<div>\n",
       "<style scoped>\n",
       "    .dataframe tbody tr th:only-of-type {\n",
       "        vertical-align: middle;\n",
       "    }\n",
       "\n",
       "    .dataframe tbody tr th {\n",
       "        vertical-align: top;\n",
       "    }\n",
       "\n",
       "    .dataframe thead th {\n",
       "        text-align: right;\n",
       "    }\n",
       "</style>\n",
       "<table border=\"1\" class=\"dataframe\">\n",
       "  <thead>\n",
       "    <tr style=\"text-align: right;\">\n",
       "      <th></th>\n",
       "      <th>features/table</th>\n",
       "      <th>features/z</th>\n",
       "      <th>price</th>\n",
       "    </tr>\n",
       "  </thead>\n",
       "  <tbody>\n",
       "    <tr>\n",
       "      <th>0</th>\n",
       "      <td>60.0</td>\n",
       "      <td>4.23</td>\n",
       "      <td>6546.0</td>\n",
       "    </tr>\n",
       "    <tr>\n",
       "      <th>1</th>\n",
       "      <td>54.0</td>\n",
       "      <td>3.71</td>\n",
       "      <td>3030.0</td>\n",
       "    </tr>\n",
       "    <tr>\n",
       "      <th>2</th>\n",
       "      <td>54.0</td>\n",
       "      <td>3.27</td>\n",
       "      <td>1915.0</td>\n",
       "    </tr>\n",
       "    <tr>\n",
       "      <th>3</th>\n",
       "      <td>58.0</td>\n",
       "      <td>4.64</td>\n",
       "      <td>6936.0</td>\n",
       "    </tr>\n",
       "    <tr>\n",
       "      <th>4</th>\n",
       "      <td>54.0</td>\n",
       "      <td>2.76</td>\n",
       "      <td>646.0</td>\n",
       "    </tr>\n",
       "  </tbody>\n",
       "</table>\n",
       "</div>"
      ],
      "text/plain": [
       "   features/table  features/z   price\n",
       "0            60.0        4.23  6546.0\n",
       "1            54.0        3.71  3030.0\n",
       "2            54.0        3.27  1915.0\n",
       "3            58.0        4.64  6936.0\n",
       "4            54.0        2.76   646.0"
      ]
     },
     "execution_count": 10,
     "metadata": {},
     "output_type": "execute_result"
    }
   ],
   "source": [
    "df.head()"
   ]
  },
  {
   "cell_type": "markdown",
   "id": "41be3024",
   "metadata": {},
   "source": [
    "## 2. Определите признак с минимальным диапазоном изменения значений и постройте гистограмму значений признака."
   ]
  },
  {
   "cell_type": "code",
   "execution_count": 43,
   "id": "55e39a07",
   "metadata": {},
   "outputs": [
    {
     "data": {
      "text/plain": [
       "features/table     43.0\n",
       "features/z          0.0\n",
       "price             326.0\n",
       "dtype: float64"
      ]
     },
     "execution_count": 43,
     "metadata": {},
     "output_type": "execute_result"
    }
   ],
   "source": [
    "df.min() # минимумы"
   ]
  },
  {
   "cell_type": "code",
   "execution_count": 75,
   "id": "b9d9423d",
   "metadata": {},
   "outputs": [
    {
     "data": {
      "image/png": "[encoded data removed]",
      "text/plain": [
       "<Figure size 432x288 with 1 Axes>"
      ]
     },
     "metadata": {
      "needs_background": "light"
     },
     "output_type": "display_data"
    }
   ],
   "source": [
    "# Гистаграмма признака features/z\n",
    "df['features/z'].plot.hist(bins=15,title='Гистограмма признака features/z');"
   ]
  },
  {
   "cell_type": "markdown",
   "id": "3bd5be0f",
   "metadata": {},
   "source": [
    "## 3. Для признака, имеющего максимальную медиану, постройте и визуализируйте эмпирическую функцию распределения."
   ]
  },
  {
   "cell_type": "code",
   "execution_count": 38,
   "id": "345ab6eb",
   "metadata": {},
   "outputs": [
    {
     "data": {
      "text/plain": [
       "features/table      57.00\n",
       "features/z           3.53\n",
       "price             2401.00\n",
       "dtype: float64"
      ]
     },
     "execution_count": 38,
     "metadata": {},
     "output_type": "execute_result"
    }
   ],
   "source": [
    "df.median() # медианы"
   ]
  },
  {
   "cell_type": "code",
   "execution_count": 39,
   "id": "79cce88b",
   "metadata": {},
   "outputs": [
    {
     "data": {
      "text/plain": [
       "2401.0"
      ]
     },
     "execution_count": 39,
     "metadata": {},
     "output_type": "execute_result"
    }
   ],
   "source": [
    "df.median().max()   # максимальная медиана"
   ]
  },
  {
   "cell_type": "code",
   "execution_count": 44,
   "id": "2bf21a97",
   "metadata": {},
   "outputs": [],
   "source": [
    "def ECDF(data, x):\n",
    "    counter = 0\n",
    "    for v in data:\n",
    "        if v <= x:\n",
    "            counter += 1\n",
    "    return counter / len(data)"
   ]
  },
  {
   "cell_type": "code",
   "execution_count": 70,
   "id": "f76a04b2",
   "metadata": {},
   "outputs": [],
   "source": [
    "samples = df['price'] # sepal length\n",
    "npoints = 500\n",
    "dx = (samples.max()-samples.min())/npoints\n",
    "\n",
    "xlist = [samples.min()+dx*i for i in range(npoints)]\n",
    "ylist = [ECDF(samples, x) for x in xlist]"
   ]
  },
  {
   "cell_type": "code",
   "execution_count": 71,
   "id": "9d085fa3",
   "metadata": {},
   "outputs": [
    {
     "data": {
      "text/html": [
       "<div>\n",
       "<style scoped>\n",
       "    .dataframe tbody tr th:only-of-type {\n",
       "        vertical-align: middle;\n",
       "    }\n",
       "\n",
       "    .dataframe tbody tr th {\n",
       "        vertical-align: top;\n",
       "    }\n",
       "\n",
       "    .dataframe thead th {\n",
       "        text-align: right;\n",
       "    }\n",
       "</style>\n",
       "<table border=\"1\" class=\"dataframe\">\n",
       "  <thead>\n",
       "    <tr style=\"text-align: right;\">\n",
       "      <th></th>\n",
       "      <th>price</th>\n",
       "    </tr>\n",
       "  </thead>\n",
       "  <tbody>\n",
       "    <tr>\n",
       "      <th>326.000</th>\n",
       "      <td>0.000037</td>\n",
       "    </tr>\n",
       "    <tr>\n",
       "      <th>362.994</th>\n",
       "      <td>0.000853</td>\n",
       "    </tr>\n",
       "    <tr>\n",
       "      <th>399.988</th>\n",
       "      <td>0.004579</td>\n",
       "    </tr>\n",
       "    <tr>\n",
       "      <th>436.982</th>\n",
       "      <td>0.012551</td>\n",
       "    </tr>\n",
       "    <tr>\n",
       "      <th>473.976</th>\n",
       "      <td>0.023230</td>\n",
       "    </tr>\n",
       "    <tr>\n",
       "      <th>...</th>\n",
       "      <td>...</td>\n",
       "    </tr>\n",
       "    <tr>\n",
       "      <th>18638.030</th>\n",
       "      <td>0.998888</td>\n",
       "    </tr>\n",
       "    <tr>\n",
       "      <th>18675.024</th>\n",
       "      <td>0.999036</td>\n",
       "    </tr>\n",
       "    <tr>\n",
       "      <th>18712.018</th>\n",
       "      <td>0.999370</td>\n",
       "    </tr>\n",
       "    <tr>\n",
       "      <th>18749.012</th>\n",
       "      <td>0.999574</td>\n",
       "    </tr>\n",
       "    <tr>\n",
       "      <th>18786.006</th>\n",
       "      <td>0.999778</td>\n",
       "    </tr>\n",
       "  </tbody>\n",
       "</table>\n",
       "<p>500 rows × 1 columns</p>\n",
       "</div>"
      ],
      "text/plain": [
       "              price\n",
       "326.000    0.000037\n",
       "362.994    0.000853\n",
       "399.988    0.004579\n",
       "436.982    0.012551\n",
       "473.976    0.023230\n",
       "...             ...\n",
       "18638.030  0.998888\n",
       "18675.024  0.999036\n",
       "18712.018  0.999370\n",
       "18749.012  0.999574\n",
       "18786.006  0.999778\n",
       "\n",
       "[500 rows x 1 columns]"
      ]
     },
     "execution_count": 71,
     "metadata": {},
     "output_type": "execute_result"
    }
   ],
   "source": [
    "import pandas as pd\n",
    "\n",
    "df_ECDF = pd.DataFrame(ylist, columns=['price'],index=xlist)\n",
    "df_ECDF"
   ]
  },
  {
   "cell_type": "code",
   "execution_count": 72,
   "id": "7d220e16",
   "metadata": {},
   "outputs": [
    {
     "data": {
      "image/png": "[encoded data removed]",
      "text/plain": [
       "<Figure size 432x288 with 1 Axes>"
      ]
     },
     "metadata": {
      "needs_background": "light"
     },
     "output_type": "display_data"
    }
   ],
   "source": [
    "# эмпирическая функция распределения\n",
    "df_ECDF.plot.line(title='График эмпирической функции распределения признака price');"
   ]
  },
  {
   "cell_type": "markdown",
   "id": "8f48fd15",
   "metadata": {},
   "source": [
    "## 4. Вычислите матрицу корреляции признаков и для пары признаков с наиболее низкой корреляцией постройте диаграмму рассеяния."
   ]
  },
  {
   "cell_type": "code",
   "execution_count": 52,
   "id": "352ab8dc",
   "metadata": {},
   "outputs": [
    {
     "data": {
      "text/html": [
       "<div>\n",
       "<style scoped>\n",
       "    .dataframe tbody tr th:only-of-type {\n",
       "        vertical-align: middle;\n",
       "    }\n",
       "\n",
       "    .dataframe tbody tr th {\n",
       "        vertical-align: top;\n",
       "    }\n",
       "\n",
       "    .dataframe thead th {\n",
       "        text-align: right;\n",
       "    }\n",
       "</style>\n",
       "<table border=\"1\" class=\"dataframe\">\n",
       "  <thead>\n",
       "    <tr style=\"text-align: right;\">\n",
       "      <th></th>\n",
       "      <th>features/table</th>\n",
       "      <th>features/z</th>\n",
       "      <th>price</th>\n",
       "    </tr>\n",
       "  </thead>\n",
       "  <tbody>\n",
       "    <tr>\n",
       "      <th>features/table</th>\n",
       "      <td>1.000000</td>\n",
       "      <td>0.150929</td>\n",
       "      <td>0.127134</td>\n",
       "    </tr>\n",
       "    <tr>\n",
       "      <th>features/z</th>\n",
       "      <td>0.150929</td>\n",
       "      <td>1.000000</td>\n",
       "      <td>0.861249</td>\n",
       "    </tr>\n",
       "    <tr>\n",
       "      <th>price</th>\n",
       "      <td>0.127134</td>\n",
       "      <td>0.861249</td>\n",
       "      <td>1.000000</td>\n",
       "    </tr>\n",
       "  </tbody>\n",
       "</table>\n",
       "</div>"
      ],
      "text/plain": [
       "                features/table  features/z     price\n",
       "features/table        1.000000    0.150929  0.127134\n",
       "features/z            0.150929    1.000000  0.861249\n",
       "price                 0.127134    0.861249  1.000000"
      ]
     },
     "execution_count": 52,
     "metadata": {},
     "output_type": "execute_result"
    }
   ],
   "source": [
    "df.corr() # матрица корреляции"
   ]
  },
  {
   "cell_type": "code",
   "execution_count": 64,
   "id": "b7674f35",
   "metadata": {},
   "outputs": [
    {
     "data": {
      "text/plain": [
       "features/table    0.127134\n",
       "features/z        0.150929\n",
       "price             0.127134\n",
       "dtype: float64"
      ]
     },
     "execution_count": 64,
     "metadata": {},
     "output_type": "execute_result"
    }
   ],
   "source": [
    "df.corr().min() # пары признаков с наиболее низкой корреляцией"
   ]
  },
  {
   "cell_type": "code",
   "execution_count": 65,
   "id": "ff4c4609",
   "metadata": {},
   "outputs": [
    {
     "data": {
      "image/png": "[encoded data removed]",
      "text/plain": [
       "<Figure size 432x288 with 1 Axes>"
      ]
     },
     "metadata": {
      "needs_background": "light"
     },
     "output_type": "display_data"
    }
   ],
   "source": [
    "# диаграмма рассеяния\n",
    "df.plot.scatter('features/table','price',title='Диаграмма рассеяния признаков features/table и price');"
   ]
  },
  {
   "cell_type": "code",
   "execution_count": null,
   "id": "270489ef",
   "metadata": {},
   "outputs": [],
   "source": []
  }
 ],
 "metadata": {
  "kernelspec": {
   "display_name": "Python 3",
   "language": "python",
   "name": "python3"
  },
  "language_info": {
   "codemirror_mode": {
    "name": "ipython",
    "version": 3
   },
   "file_extension": ".py",
   "mimetype": "text/x-python",
   "name": "python",
   "nbconvert_exporter": "python",
   "pygments_lexer": "ipython3",
   "version": "3.8.8"
  }
 },
 "nbformat": 4,
 "nbformat_minor": 5
}
